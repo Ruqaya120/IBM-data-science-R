{
 "cells": [
  {
   "cell_type": "markdown",
   "id": "e6c14460",
   "metadata": {},
   "source": [
    "### Exercise 2: Create markdown cell with title of the notebook"
   ]
  },
  {
   "cell_type": "markdown",
   "id": "b2c494d7",
   "metadata": {},
   "source": [
    "# Data Science Tools and Ecosystem"
   ]
  },
  {
   "cell_type": "markdown",
   "id": "a43f9c60",
   "metadata": {},
   "source": [
    "### Exercise 3 - Create a markdown cell for an introduction"
   ]
  },
  {
   "cell_type": "markdown",
   "id": "276f3976",
   "metadata": {},
   "source": [
    "##### In this notebook, Data Science Tools and Ecosystem are summarized."
   ]
  },
  {
   "cell_type": "markdown",
   "id": "6a9a6c33",
   "metadata": {},
   "source": [
    "### Exercise 4 - Create a markdown cell to list data science languages"
   ]
  },
  {
   "cell_type": "markdown",
   "id": "0584a9fb",
   "metadata": {},
   "source": [
    "#### Some of the popular languages that Data Scientists use are:\n",
    "1.Python\n",
    "</br>\n",
    "2.R.\n",
    "</br>\n",
    "3.SQL.\n",
    "</br>\n",
    "4.Java.\n",
    "</br>\n",
    "5.Scala.\n"
   ]
  },
  {
   "cell_type": "markdown",
   "id": "686a6dba",
   "metadata": {},
   "source": [
    "### Exercise 5 - Create a markdown cell to list data science libraries"
   ]
  },
  {
   "cell_type": "markdown",
   "id": "4b72fa5b",
   "metadata": {},
   "source": [
    "##### Some of the commonly used libraries used by Data Scientists include:\n",
    "1-TensorFlow\n",
    "\n",
    "2-Scikit-learn\n",
    "\n",
    "3-Numpy\n",
    "\n",
    "4-Matplotlib\n",
    "\n",
    "5-Pandas\n",
    "\n"
   ]
  },
  {
   "cell_type": "markdown",
   "id": "fa2e74dc",
   "metadata": {},
   "source": [
    "### Exercise 6 - Create a markdown cell with a table of Data Science tools"
   ]
  },
  {
   "cell_type": "markdown",
   "id": "c0fffa65",
   "metadata": {},
   "source": [
    "| Data Science Tools |  |  |\n",
    "| :------- | --- | --- |\n",
    "| Apache Spark     |  |  |\n",
    "|  |  |  |\n",
    "| Apache Hadoop   |  |  |\n",
    "|  |  |  |\n",
    "| TensorFlow   |  |  |\n",
    "|  |  |  |\n",
    "\n"
   ]
  },
  {
   "cell_type": "markdown",
   "id": "5a7122f1",
   "metadata": {},
   "source": [
    "### Exercise 7 - Create a markdown cell introducing arithmetic expression examples"
   ]
  },
  {
   "cell_type": "markdown",
   "id": "29ec19a3",
   "metadata": {},
   "source": [
    "##### Below are a few examples of evaluating arithmetic expressions in Python.\n",
    "#### Addition\n",
    "code1 = compile(\"3 + 6\", \"eval\")\n",
    "<br>\n",
    "eval(code1)\n",
    "<br>\n",
    "Result: 9\n",
    "#### Substraction\n",
    "code2 = compile(\"10 - 4\", \"eval\")\n",
    "<br>\n",
    "eval(code2)\n",
    "<br>\n",
    "Result: 6\n",
    "#### Multiplication\n",
    "code3 = compile(\"5 * 5\", \"eval\")\n",
    "<br>\n",
    "eval(code3)\n",
    "<br>\n",
    "Result: 25"
   ]
  },
  {
   "cell_type": "markdown",
   "id": "5356aee5",
   "metadata": {},
   "source": [
    "### Exercise 8 - Create a code cell to multiply and add numbers"
   ]
  },
  {
   "cell_type": "code",
   "execution_count": 3,
   "id": "0596ffb0",
   "metadata": {},
   "outputs": [
    {
     "data": {
      "text/plain": [
       "17"
      ]
     },
     "execution_count": 3,
     "metadata": {},
     "output_type": "execute_result"
    }
   ],
   "source": [
    "# This a simple arithmetic expression to mutiply then add integers\n",
    "\n",
    "(3*4)+5"
   ]
  },
  {
   "cell_type": "markdown",
   "id": "f582cf2a",
   "metadata": {},
   "source": [
    "### Exercise 9 - Create a code cell to convert minutes to hours"
   ]
  },
  {
   "cell_type": "code",
   "execution_count": 7,
   "id": "3d00ec94",
   "metadata": {},
   "outputs": [
    {
     "data": {
      "text/plain": [
       "3.3333333333333335"
      ]
     },
     "execution_count": 7,
     "metadata": {},
     "output_type": "execute_result"
    }
   ],
   "source": [
    "# This will convert 200 minutes to hours by diving by 60\n",
    "(200/60)"
   ]
  },
  {
   "cell_type": "markdown",
   "id": "51537efe",
   "metadata": {},
   "source": [
    "### Exercise 10 - Insert a markdown cell to list Objectives"
   ]
  },
  {
   "cell_type": "markdown",
   "id": "1bd8ce11",
   "metadata": {},
   "source": [
    "#### In this notebook, Data Science Tools and Ecosystem are summarized.\n",
    "##### Objectives:\n",
    "\n",
    "* Data Organization.  \n",
    "* Iteration and Access.  \n",
    "* Ordered Elements.  \n",
    "* Collection of Items.  \n"
   ]
  },
  {
   "cell_type": "markdown",
   "id": "80e986ec",
   "metadata": {},
   "source": [
    "### Exercise 11 - Create a markdown cell to indicate the Author's name"
   ]
  },
  {
   "cell_type": "markdown",
   "id": "57541b57",
   "metadata": {},
   "source": [
    "## Author \n",
    "Ruqaya Alkhateeb"
   ]
  }
 ],
 "metadata": {
  "kernelspec": {
   "display_name": "Python 3 (ipykernel)",
   "language": "python",
   "name": "python3"
  },
  "language_info": {
   "codemirror_mode": {
    "name": "ipython",
    "version": 3
   },
   "file_extension": ".py",
   "mimetype": "text/x-python",
   "name": "python",
   "nbconvert_exporter": "python",
   "pygments_lexer": "ipython3",
   "version": "3.11.5"
  }
 },
 "nbformat": 4,
 "nbformat_minor": 5
}
